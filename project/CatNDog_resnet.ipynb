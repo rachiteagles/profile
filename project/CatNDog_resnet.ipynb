{
  "cells": [
    {
      "cell_type": "markdown",
      "metadata": {
        "id": "lUL-jrXdNt18"
      },
      "source": [
        "Below mentioned code is written with the assumption that we are having 2 directories namely CATS and DOGS in the present directory. These directories has images of cats and dogs respectively. Directories are not uploaded to github because of large size.\n",
        "\n",
        "However, images cab be downloaded from https://www.microsoft.com/en-us/download/confirmation.aspx?id=54765\n",
        "\n"
      ]
    },
    {
      "cell_type": "code",
      "execution_count": 1,
      "metadata": {
        "id": "zhc953J5Nt19"
      },
      "outputs": [],
      "source": [
        "import os\n",
        "import cv2\n",
        "import numpy as np\n",
        "import tqdm as tqdm\n",
        "import torch\n",
        "from tqdm import tqdm as tqdm"
      ]
    },
    {
      "cell_type": "code",
      "source": [
        "from google.colab import drive\n",
        "drive.mount('/content/drive')"
      ],
      "metadata": {
        "id": "iYY8Dcvlskba",
        "colab": {
          "base_uri": "https://localhost:8080/"
        },
        "outputId": "3038c6c6-c722-4131-d056-ad81715f7341"
      },
      "execution_count": 2,
      "outputs": [
        {
          "output_type": "stream",
          "name": "stdout",
          "text": [
            "Drive already mounted at /content/drive; to attempt to forcibly remount, call drive.mount(\"/content/drive\", force_remount=True).\n"
          ]
        }
      ]
    },
    {
      "cell_type": "code",
      "execution_count": 3,
      "metadata": {
        "id": "ITvd-aFJNt19"
      },
      "outputs": [],
      "source": [
        "\n",
        "\n",
        "REBUILD_DATA = False\n",
        "\n",
        "path = '/content/drive/MyDrive/Cat an Dog/kagglecatsanddogs_3367a/PetImages/'\n",
        "class DogsVSCats():\n",
        "    IMG_SIZE = 224\n",
        "    cats = path+\"Cat\"\n",
        "    dogs = path+\"Dog\"\n",
        "    LABELS = {cats: 0, dogs: 1}\n",
        "    \n",
        "    training_data = []\n",
        "    \n",
        "    catcount = 0\n",
        "    dogcount = 0\n",
        "    \n",
        "    def make_training_data(self):\n",
        "        for label in self.LABELS:\n",
        "            print(label)\n",
        "            for f in tqdm(os.listdir(label)):\n",
        "                try:\n",
        "                \n",
        "                    path = os.path.join(label,f)\n",
        "                    \n",
        "                    img = cv2.imread(path,cv2.IMREAD_GRAYSCALE)\n",
        "                    \n",
        "                    img = cv2.resize(img, (self.IMG_SIZE, self.IMG_SIZE))\n",
        "\n",
        "                    self.training_data.append([np.array(img), np.eye(2)[self.LABELS[label]]])\n",
        "\n",
        "                    if label == self.cats:\n",
        "                        self.catcount+=1\n",
        "                    elif label == self.dogs:\n",
        "                        self.dogcount+=1\n",
        "                except Exception as e:\n",
        "                    pass\n",
        "            \n",
        "        np.random.shuffle(self.training_data)\n",
        "        np.save(\"training_data_bw.npy\",self.training_data)\n",
        "        print(\"cats: \"+str(self.catcount))\n",
        "        print(\"dogs: \"+str(self.dogcount))\n",
        "        \n",
        "if REBUILD_DATA:\n",
        "    dogsvcats = DogsVSCats()\n",
        "    dogsvcats.make_training_data()"
      ]
    },
    {
      "cell_type": "markdown",
      "metadata": {
        "id": "xjyuDhGFNt1-"
      },
      "source": [
        "# Visualizing Data"
      ]
    },
    {
      "cell_type": "code",
      "execution_count": 4,
      "metadata": {
        "id": "V8ksJav6Nt1-"
      },
      "outputs": [],
      "source": [
        "import os\n",
        "import cv2\n",
        "import numpy as np\n",
        "import tqdm as tqdm\n",
        "import torch"
      ]
    },
    {
      "cell_type": "code",
      "execution_count": 5,
      "metadata": {
        "id": "Q8trrgFeNt1-"
      },
      "outputs": [],
      "source": [
        "if torch.cuda.is_available():\n",
        "    device = torch.device('cuda:0')\n",
        "else:\n",
        "    device = torch.device('cpu')"
      ]
    },
    {
      "cell_type": "code",
      "source": [
        "device"
      ],
      "metadata": {
        "colab": {
          "base_uri": "https://localhost:8080/"
        },
        "id": "XnJvEruowp2e",
        "outputId": "2bf00bb8-adb7-480b-cdaf-4b4ed1cb35c2"
      },
      "execution_count": 6,
      "outputs": [
        {
          "output_type": "execute_result",
          "data": {
            "text/plain": [
              "device(type='cuda', index=0)"
            ]
          },
          "metadata": {},
          "execution_count": 6
        }
      ]
    },
    {
      "cell_type": "code",
      "execution_count": 7,
      "metadata": {
        "id": "nusK-JEMNt1-"
      },
      "outputs": [],
      "source": [
        "import numpy as np\n",
        "training_data = np.load('/content/drive/MyDrive/training_data_bw.npy', allow_pickle=True)"
      ]
    },
    {
      "cell_type": "code",
      "execution_count": 8,
      "metadata": {
        "id": "QLcokmYkNt1-",
        "colab": {
          "base_uri": "https://localhost:8080/",
          "height": 287
        },
        "outputId": "5e0d9eab-1e76-4822-bb7d-f3167cd9a326"
      },
      "outputs": [
        {
          "output_type": "execute_result",
          "data": {
            "text/plain": [
              "<matplotlib.image.AxesImage at 0x7fa6f37d69d0>"
            ]
          },
          "metadata": {},
          "execution_count": 8
        },
        {
          "output_type": "display_data",
          "data": {
            "text/plain": [
              "<Figure size 432x288 with 1 Axes>"
            ],
            "image/png": "[encoded data removed]"
          },
          "metadata": {
            "needs_background": "light"
          }
        }
      ],
      "source": [
        "import matplotlib.pyplot as plt\n",
        "plt.imshow(training_data[0][0], cmap=\"gray\")"
      ]
    },
    {
      "cell_type": "markdown",
      "metadata": {
        "id": "1Q_lLugqNt1_"
      },
      "source": [
        "# Building Model"
      ]
    },
    {
      "cell_type": "code",
      "execution_count": 9,
      "metadata": {
        "id": "pf1Ttvz8Nt1_",
        "colab": {
          "base_uri": "https://localhost:8080/"
        },
        "outputId": "32a82860-6241-47ca-b2d6-a02b594c7368"
      },
      "outputs": [
        {
          "output_type": "stream",
          "name": "stderr",
          "text": [
            "Using cache found in /root/.cache/torch/hub/pytorch_vision_v0.10.0\n"
          ]
        }
      ],
      "source": [
        "import torch\n",
        "import torch.nn as nn\n",
        "import torch.nn.functional as F\n",
        "model = torch.hub.load('pytorch/vision:v0.10.0', 'resnet18', pretrained=True)"
      ]
    },
    {
      "cell_type": "code",
      "source": [
        ""
      ],
      "metadata": {
        "id": "xkygRhxtNLR8"
      },
      "execution_count": 9,
      "outputs": []
    },
    {
      "cell_type": "code",
      "execution_count": 10,
      "metadata": {
        "id": "VGOhZXzrNt1_",
        "colab": {
          "base_uri": "https://localhost:8080/"
        },
        "outputId": "551097ba-3c9f-4a11-8c37-1d2e765f6f04"
      },
      "outputs": [
        {
          "output_type": "execute_result",
          "data": {
            "text/plain": [
              "ResNet(\n",
              "  (conv1): Conv2d(3, 64, kernel_size=(7, 7), stride=(2, 2), padding=(3, 3), bias=False)\n",
              "  (bn1): BatchNorm2d(64, eps=1e-05, momentum=0.1, affine=True, track_running_stats=True)\n",
              "  (relu): ReLU(inplace=True)\n",
              "  (maxpool): MaxPool2d(kernel_size=3, stride=2, padding=1, dilation=1, ceil_mode=False)\n",
              "  (layer1): Sequential(\n",
              "    (0): BasicBlock(\n",
              "      (conv1): Conv2d(64, 64, kernel_size=(3, 3), stride=(1, 1), padding=(1, 1), bias=False)\n",
              "      (bn1): BatchNorm2d(64, eps=1e-05, momentum=0.1, affine=True, track_running_stats=True)\n",
              "      (relu): ReLU(inplace=True)\n",
              "      (conv2): Conv2d(64, 64, kernel_size=(3, 3), stride=(1, 1), padding=(1, 1), bias=False)\n",
              "      (bn2): BatchNorm2d(64, eps=1e-05, momentum=0.1, affine=True, track_running_stats=True)\n",
              "    )\n",
              "    (1): BasicBlock(\n",
              "      (conv1): Conv2d(64, 64, kernel_size=(3, 3), stride=(1, 1), padding=(1, 1), bias=False)\n",
              "      (bn1): BatchNorm2d(64, eps=1e-05, momentum=0.1, affine=True, track_running_stats=True)\n",
              "      (relu): ReLU(inplace=True)\n",
              "      (conv2): Conv2d(64, 64, kernel_size=(3, 3), stride=(1, 1), padding=(1, 1), bias=False)\n",
              "      (bn2): BatchNorm2d(64, eps=1e-05, momentum=0.1, affine=True, track_running_stats=True)\n",
              "    )\n",
              "  )\n",
              "  (layer2): Sequential(\n",
              "    (0): BasicBlock(\n",
              "      (conv1): Conv2d(64, 128, kernel_size=(3, 3), stride=(2, 2), padding=(1, 1), bias=False)\n",
              "      (bn1): BatchNorm2d(128, eps=1e-05, momentum=0.1, affine=True, track_running_stats=True)\n",
              "      (relu): ReLU(inplace=True)\n",
              "      (conv2): Conv2d(128, 128, kernel_size=(3, 3), stride=(1, 1), padding=(1, 1), bias=False)\n",
              "      (bn2): BatchNorm2d(128, eps=1e-05, momentum=0.1, affine=True, track_running_stats=True)\n",
              "      (downsample): Sequential(\n",
              "        (0): Conv2d(64, 128, kernel_size=(1, 1), stride=(2, 2), bias=False)\n",
              "        (1): BatchNorm2d(128, eps=1e-05, momentum=0.1, affine=True, track_running_stats=True)\n",
              "      )\n",
              "    )\n",
              "    (1): BasicBlock(\n",
              "      (conv1): Conv2d(128, 128, kernel_size=(3, 3), stride=(1, 1), padding=(1, 1), bias=False)\n",
              "      (bn1): BatchNorm2d(128, eps=1e-05, momentum=0.1, affine=True, track_running_stats=True)\n",
              "      (relu): ReLU(inplace=True)\n",
              "      (conv2): Conv2d(128, 128, kernel_size=(3, 3), stride=(1, 1), padding=(1, 1), bias=False)\n",
              "      (bn2): BatchNorm2d(128, eps=1e-05, momentum=0.1, affine=True, track_running_stats=True)\n",
              "    )\n",
              "  )\n",
              "  (layer3): Sequential(\n",
              "    (0): BasicBlock(\n",
              "      (conv1): Conv2d(128, 256, kernel_size=(3, 3), stride=(2, 2), padding=(1, 1), bias=False)\n",
              "      (bn1): BatchNorm2d(256, eps=1e-05, momentum=0.1, affine=True, track_running_stats=True)\n",
              "      (relu): ReLU(inplace=True)\n",
              "      (conv2): Conv2d(256, 256, kernel_size=(3, 3), stride=(1, 1), padding=(1, 1), bias=False)\n",
              "      (bn2): BatchNorm2d(256, eps=1e-05, momentum=0.1, affine=True, track_running_stats=True)\n",
              "      (downsample): Sequential(\n",
              "        (0): Conv2d(128, 256, kernel_size=(1, 1), stride=(2, 2), bias=False)\n",
              "        (1): BatchNorm2d(256, eps=1e-05, momentum=0.1, affine=True, track_running_stats=True)\n",
              "      )\n",
              "    )\n",
              "    (1): BasicBlock(\n",
              "      (conv1): Conv2d(256, 256, kernel_size=(3, 3), stride=(1, 1), padding=(1, 1), bias=False)\n",
              "      (bn1): BatchNorm2d(256, eps=1e-05, momentum=0.1, affine=True, track_running_stats=True)\n",
              "      (relu): ReLU(inplace=True)\n",
              "      (conv2): Conv2d(256, 256, kernel_size=(3, 3), stride=(1, 1), padding=(1, 1), bias=False)\n",
              "      (bn2): BatchNorm2d(256, eps=1e-05, momentum=0.1, affine=True, track_running_stats=True)\n",
              "    )\n",
              "  )\n",
              "  (layer4): Sequential(\n",
              "    (0): BasicBlock(\n",
              "      (conv1): Conv2d(256, 512, kernel_size=(3, 3), stride=(2, 2), padding=(1, 1), bias=False)\n",
              "      (bn1): BatchNorm2d(512, eps=1e-05, momentum=0.1, affine=True, track_running_stats=True)\n",
              "      (relu): ReLU(inplace=True)\n",
              "      (conv2): Conv2d(512, 512, kernel_size=(3, 3), stride=(1, 1), padding=(1, 1), bias=False)\n",
              "      (bn2): BatchNorm2d(512, eps=1e-05, momentum=0.1, affine=True, track_running_stats=True)\n",
              "      (downsample): Sequential(\n",
              "        (0): Conv2d(256, 512, kernel_size=(1, 1), stride=(2, 2), bias=False)\n",
              "        (1): BatchNorm2d(512, eps=1e-05, momentum=0.1, affine=True, track_running_stats=True)\n",
              "      )\n",
              "    )\n",
              "    (1): BasicBlock(\n",
              "      (conv1): Conv2d(512, 512, kernel_size=(3, 3), stride=(1, 1), padding=(1, 1), bias=False)\n",
              "      (bn1): BatchNorm2d(512, eps=1e-05, momentum=0.1, affine=True, track_running_stats=True)\n",
              "      (relu): ReLU(inplace=True)\n",
              "      (conv2): Conv2d(512, 512, kernel_size=(3, 3), stride=(1, 1), padding=(1, 1), bias=False)\n",
              "      (bn2): BatchNorm2d(512, eps=1e-05, momentum=0.1, affine=True, track_running_stats=True)\n",
              "    )\n",
              "  )\n",
              "  (avgpool): AdaptiveAvgPool2d(output_size=(1, 1))\n",
              "  (fc): Linear(in_features=512, out_features=1000, bias=True)\n",
              ")"
            ]
          },
          "metadata": {},
          "execution_count": 10
        }
      ],
      "source": [
        "model.eval()"
      ]
    },
    {
      "cell_type": "code",
      "execution_count": 11,
      "metadata": {
        "id": "Q7uXjO2SNt1_"
      },
      "outputs": [],
      "source": [
        "\n",
        "model.conv1 = nn.Conv2d(1, 64, kernel_size=(7, 7), stride=(2, 2), padding=(3, 3), bias=False)"
      ]
    },
    {
      "cell_type": "code",
      "source": [
        "model = model.to(device)"
      ],
      "metadata": {
        "id": "-eCJR2tZyzai"
      },
      "execution_count": 12,
      "outputs": []
    },
    {
      "cell_type": "code",
      "execution_count": 13,
      "metadata": {
        "id": "g4so5AalNt1_",
        "colab": {
          "base_uri": "https://localhost:8080/"
        },
        "outputId": "a1017008-871c-4718-dbdc-eff712fa950b"
      },
      "outputs": [
        {
          "output_type": "execute_result",
          "data": {
            "text/plain": [
              "torch.Size([1, 1000])"
            ]
          },
          "metadata": {},
          "execution_count": 13
        }
      ],
      "source": [
        "model(torch.reshape(torch.tensor(training_data[0][0],dtype=torch.float32),(-1,1,224,224)).to(device)).shape"
      ]
    },
    {
      "cell_type": "code",
      "execution_count": 14,
      "metadata": {
        "id": "o_lYYPp5Nt1_"
      },
      "outputs": [],
      "source": [
        "\n",
        "\n",
        "net = nn.Sequential(  nn.BatchNorm2d(1),\n",
        "                      model,\n",
        "                      nn.Dropout(0.6),\n",
        "                      nn.Linear(1000, 2)\n",
        "                      ).to(device)\n"
      ]
    },
    {
      "cell_type": "markdown",
      "metadata": {
        "id": "tmC4nE1_Nt2A"
      },
      "source": [
        "# Training the Model"
      ]
    },
    {
      "cell_type": "code",
      "execution_count": 15,
      "metadata": {
        "id": "QOaLIqo9Nt2A"
      },
      "outputs": [],
      "source": [
        "batch_size = 200\n",
        "epochs = 4"
      ]
    },
    {
      "cell_type": "code",
      "execution_count": 16,
      "metadata": {
        "id": "rCNv6OM0Nt2A",
        "colab": {
          "base_uri": "https://localhost:8080/"
        },
        "outputId": "db843586-beeb-49c7-a4ec-14459dde56e9"
      },
      "outputs": [
        {
          "output_type": "stream",
          "name": "stderr",
          "text": [
            "  0%|          | 0/25016 [00:00<?, ?it/s]/usr/local/lib/python3.7/dist-packages/ipykernel_launcher.py:20: UserWarning: Creating a tensor from a list of numpy.ndarrays is extremely slow. Please consider converting the list to a single numpy.ndarray with numpy.array() before converting to a tensor. (Triggered internally at  ../torch/csrc/utils/tensor_new.cpp:201.)\n",
            "100%|██████████| 25016/25016 [00:36<00:00, 679.53it/s]\n"
          ]
        },
        {
          "output_type": "stream",
          "name": "stdout",
          "text": [
            "train loss 0.676375292301178 val loss 0.544403708934784\n"
          ]
        },
        {
          "output_type": "stream",
          "name": "stderr",
          "text": [
            "100%|██████████| 25016/25016 [00:36<00:00, 689.34it/s]\n"
          ]
        },
        {
          "output_type": "stream",
          "name": "stdout",
          "text": [
            "train loss 0.38659236788749696 val loss 0.31085452675819397\n"
          ]
        },
        {
          "output_type": "stream",
          "name": "stderr",
          "text": [
            "100%|██████████| 25016/25016 [00:36<00:00, 690.09it/s]\n"
          ]
        },
        {
          "output_type": "stream",
          "name": "stdout",
          "text": [
            "train loss 0.27773381209373477 val loss 0.2489266905784607\n"
          ]
        },
        {
          "output_type": "stream",
          "name": "stderr",
          "text": [
            "100%|██████████| 25016/25016 [00:36<00:00, 690.56it/s]"
          ]
        },
        {
          "output_type": "stream",
          "name": "stdout",
          "text": [
            "train loss 0.20744906276464462 val loss 0.22198903876543044\n"
          ]
        },
        {
          "output_type": "stream",
          "name": "stderr",
          "text": [
            "\n"
          ]
        }
      ],
      "source": [
        "\n",
        "from tqdm import tqdm as tqdm\n",
        "\n",
        "optimizer = torch.optim.Adam(net.parameters(), lr=0.00001,weight_decay = 1e-5)  \n",
        "train_size = int(batch_size*0.8)\n",
        "\n",
        "for _ in range(epochs):\n",
        "  train_count = 0\n",
        "  train_cum_loss = 0\n",
        "\n",
        "  val_count = 0\n",
        "  val_cum_loss = 0\n",
        "  X=[]\n",
        "  Y=[]\n",
        "  \n",
        "  for i in tqdm(range(len(training_data))):\n",
        "\n",
        "      x = torch.reshape(torch.tensor(training_data[i][0],dtype=torch.float32).to(device),(-1,1,224,224))\n",
        "      X.append(x)\n",
        "      y = torch.tensor([training_data[i][1]],dtype=torch.float32).to(device)\n",
        "      Y.append(y)\n",
        "      if i%batch_size == 0 and i != 0:\n",
        "        net.train()\n",
        "        X = torch.cat(X,dim=0)\n",
        "        X=X.view(-1,1,224,224)\n",
        "        Y = torch.cat(Y,dim=0)\n",
        "        \n",
        "\n",
        "        X_train = X[:train_size]\n",
        "        Y_train = Y[:train_size]\n",
        "\n",
        "        X_val = X[train_size:]\n",
        "        Y_val = Y[train_size:]\n",
        "\n",
        "        \n",
        "        output = net(X_train)\n",
        "        loss = F.binary_cross_entropy_with_logits(output, Y_train)\n",
        "        \n",
        "        optimizer.zero_grad()\n",
        "        loss.backward()\n",
        "        optimizer.step()\n",
        "\n",
        "\n",
        "        train_cum_loss+=loss.item()\n",
        "        train_count+=1\n",
        "\n",
        "        net.eval()\n",
        "        output_eval = net(X_val)\n",
        "        loss_eval = F.binary_cross_entropy_with_logits(output_eval, Y_val)\n",
        "\n",
        "        val_count += 1\n",
        "        val_cum_loss += loss_eval.item()\n",
        "        X=[]\n",
        "        Y=[]\n",
        "        \n",
        "  print('train loss',train_cum_loss/train_count ,'val loss',val_cum_loss/val_count)\n",
        "\n"
      ]
    },
    {
      "cell_type": "code",
      "source": [
        "torch.save(net.state_dict(),f\"catNdog.pth\")"
      ],
      "metadata": {
        "id": "2dVg0XRhc6vc"
      },
      "execution_count": 17,
      "outputs": []
    },
    {
      "cell_type": "code",
      "source": [
        ""
      ],
      "metadata": {
        "id": "_VOnj2fscXwk"
      },
      "execution_count": 17,
      "outputs": []
    }
  ],
  "metadata": {
    "kernelspec": {
      "display_name": "Python 3",
      "language": "python",
      "name": "python3"
    },
    "language_info": {
      "codemirror_mode": {
        "name": "ipython",
        "version": 3
      },
      "file_extension": ".py",
      "mimetype": "text/x-python",
      "name": "python",
      "nbconvert_exporter": "python",
      "pygments_lexer": "ipython3",
      "version": "3.8.8"
    },
    "colab": {
      "name": "CatNDog_resnet.ipynb",
      "provenance": [],
      "collapsed_sections": [],
      "machine_shape": "hm"
    },
    "accelerator": "GPU"
  },
  "nbformat": 4,
  "nbformat_minor": 0
}